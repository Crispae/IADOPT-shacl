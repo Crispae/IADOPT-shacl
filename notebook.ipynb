{
 "cells": [
  {
   "cell_type": "code",
   "execution_count": 4,
   "metadata": {},
   "outputs": [],
   "source": [
    "import os\n",
    "from pyshacl import validate"
   ]
  },
  {
   "cell_type": "code",
   "execution_count": 5,
   "metadata": {},
   "outputs": [],
   "source": [
    "data_folder = r\"data\"  \n",
    "shacl_file = r\"shapes\\iadopt-shapes.ttl\" \n",
    "report_folder = r\"reports\"  \n",
    "\n",
    "# Check folder\n",
    "os.makedirs(report_folder, exist_ok=True)\n",
    "\n",
    "# Load the shacl file\n",
    "with open(shacl_file, 'r') as shacl:\n",
    "    shacl_graph = shacl.read()"
   ]
  },
  {
   "cell_type": "code",
   "execution_count": 6,
   "metadata": {},
   "outputs": [
    {
     "name": "stdout",
     "output_type": "stream",
     "text": [
      "Validation report for output1.ttl saved to reports\\output1.ttl_report.ttl\n",
      "Validation report for output2.ttl saved to reports\\output2.ttl_report.ttl\n",
      "Validation report for output3.ttl saved to reports\\output3.ttl_report.ttl\n",
      "Validation report for output4.ttl saved to reports\\output4.ttl_report.ttl\n",
      "Validation report for output5.ttl saved to reports\\output5.ttl_report.ttl\n"
     ]
    }
   ],
   "source": [
    "for file_name in os.listdir(data_folder):\n",
    "    data_file_path = os.path.join(data_folder, file_name)\n",
    "    report_file_path = os.path.join(report_folder, f\"{file_name}_report.ttl\")\n",
    "    \n",
    "    if os.path.isfile(data_file_path):\n",
    "        with open(data_file_path, 'r') as data:\n",
    "            data_graph = data.read()\n",
    "\n",
    "            # Perform validation\n",
    "            conforms, results_graph, results_text = validate(\n",
    "                data_graph=data_graph,\n",
    "                shacl_graph=shacl_graph,\n",
    "                data_graph_format=\"turtle\",  # RDF graph format\n",
    "                shacl_graph_format=\"turtle\",  # SHACL graph format\n",
    "                inference=\"rdfs\",  \n",
    "            )\n",
    "\n",
    "            # Save the validation report\n",
    "            with open(report_file_path, \"w\") as report_file:\n",
    "                report_file.write(results_graph.serialize(format=\"turtle\"))\n",
    "            \n",
    "            print(f\"Validation report for {file_name} saved to {report_file_path}\")"
   ]
  },
  {
   "cell_type": "code",
   "execution_count": null,
   "metadata": {},
   "outputs": [],
   "source": []
  }
 ],
 "metadata": {
  "kernelspec": {
   "display_name": "iadopt",
   "language": "python",
   "name": "python3"
  },
  "language_info": {
   "codemirror_mode": {
    "name": "ipython",
    "version": 3
   },
   "file_extension": ".py",
   "mimetype": "text/x-python",
   "name": "python",
   "nbconvert_exporter": "python",
   "pygments_lexer": "ipython3",
   "version": "3.9.19"
  }
 },
 "nbformat": 4,
 "nbformat_minor": 2
}
