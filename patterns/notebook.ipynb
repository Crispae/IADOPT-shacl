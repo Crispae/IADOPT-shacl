{
 "cells": [
  {
   "cell_type": "code",
   "execution_count": 5,
   "metadata": {},
   "outputs": [],
   "source": [
    "import os\n",
    "from pyshacl import validate"
   ]
  },
  {
   "cell_type": "code",
   "execution_count": 6,
   "metadata": {},
   "outputs": [],
   "source": [
    "# Load the shacl file\n",
    "with open(\"ratio-pattern.ttl\", 'r') as shacl:\n",
    "    shacl_graph = shacl.read()"
   ]
  },
  {
   "cell_type": "code",
   "execution_count": 7,
   "metadata": {},
   "outputs": [],
   "source": [
    "report_file_path = r\"report\\ratio_pattern_report.ttl\""
   ]
  },
  {
   "cell_type": "code",
   "execution_count": 8,
   "metadata": {},
   "outputs": [],
   "source": [
    "with open(r\"examples\\ratio-exampl.ttl\", 'r') as data:\n",
    "            data_graph = data.read()\n",
    "\n",
    "            # Perform validation\n",
    "            conforms, results_graph, results_text = validate(\n",
    "                data_graph=data_graph,\n",
    "                shacl_graph=shacl_graph,\n",
    "                data_graph_format=\"turtle\",  # RDF graph format\n",
    "                shacl_graph_format=\"turtle\",  # SHACL graph format\n",
    "                inference=\"rdfs\",  \n",
    "            )\n",
    "\n",
    "            # Save the validation report\n",
    "            with open(report_file_path, \"w\") as report_file:\n",
    "                report_file.write(results_graph.serialize(format=\"turtle\"))"
   ]
  },
  {
   "cell_type": "code",
   "execution_count": null,
   "metadata": {},
   "outputs": [],
   "source": []
  }
 ],
 "metadata": {
  "kernelspec": {
   "display_name": "iadopt",
   "language": "python",
   "name": "python3"
  },
  "language_info": {
   "codemirror_mode": {
    "name": "ipython",
    "version": 3
   },
   "file_extension": ".py",
   "mimetype": "text/x-python",
   "name": "python",
   "nbconvert_exporter": "python",
   "pygments_lexer": "ipython3",
   "version": "3.9.19"
  }
 },
 "nbformat": 4,
 "nbformat_minor": 2
}
